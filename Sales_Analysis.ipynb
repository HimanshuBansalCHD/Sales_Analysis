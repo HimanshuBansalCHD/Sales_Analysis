{
 "cells": [
  {
   "cell_type": "markdown",
   "metadata": {},
   "source": [
    "---\n",
    "# **Sales Analysis**\n",
    "---"
   ]
  },
  {
   "cell_type": "code",
   "execution_count": null,
   "metadata": {},
   "outputs": [],
   "source": [
    "#we will first be dealing with table: sales_data"
   ]
  },
  {
   "cell_type": "code",
   "execution_count": 1,
   "metadata": {},
   "outputs": [],
   "source": [
    "#importing dependencies\n",
    "import pandas as pd\n",
    "import numpy as np"
   ]
  },
  {
   "cell_type": "code",
   "execution_count": 2,
   "metadata": {},
   "outputs": [],
   "source": [
    "#Reading Dataset as Excel Form\n",
    "df_sales=pd.read_excel('/home/jishant/Desktop/Project/sales_data.xlsx')"
   ]
  },
  {
   "cell_type": "code",
   "execution_count": 3,
   "metadata": {},
   "outputs": [
    {
     "data": {
      "text/html": [
       "<div>\n",
       "<style scoped>\n",
       "    .dataframe tbody tr th:only-of-type {\n",
       "        vertical-align: middle;\n",
       "    }\n",
       "\n",
       "    .dataframe tbody tr th {\n",
       "        vertical-align: top;\n",
       "    }\n",
       "\n",
       "    .dataframe thead th {\n",
       "        text-align: right;\n",
       "    }\n",
       "</style>\n",
       "<table border=\"1\" class=\"dataframe\">\n",
       "  <thead>\n",
       "    <tr style=\"text-align: right;\">\n",
       "      <th></th>\n",
       "      <th>transaction id</th>\n",
       "      <th>product id</th>\n",
       "      <th>product description</th>\n",
       "      <th>quantity sold</th>\n",
       "      <th>transaction timestamp</th>\n",
       "      <th>unit price</th>\n",
       "      <th>customer id</th>\n",
       "      <th>transaction country</th>\n",
       "    </tr>\n",
       "  </thead>\n",
       "  <tbody>\n",
       "    <tr>\n",
       "      <td>0</td>\n",
       "      <td>536365</td>\n",
       "      <td>85123A</td>\n",
       "      <td>WHITE HANGING HEART T-LIGHT HOLDER</td>\n",
       "      <td>6</td>\n",
       "      <td>2010-12-01 08:26:00</td>\n",
       "      <td>2.55</td>\n",
       "      <td>17850.0</td>\n",
       "      <td>United Kingdom</td>\n",
       "    </tr>\n",
       "    <tr>\n",
       "      <td>1</td>\n",
       "      <td>536365</td>\n",
       "      <td>71053</td>\n",
       "      <td>WHITE METAL LANTERN</td>\n",
       "      <td>6</td>\n",
       "      <td>2010-12-01 08:26:00</td>\n",
       "      <td>3.39</td>\n",
       "      <td>17850.0</td>\n",
       "      <td>United Kingdom</td>\n",
       "    </tr>\n",
       "    <tr>\n",
       "      <td>2</td>\n",
       "      <td>536365</td>\n",
       "      <td>84406B</td>\n",
       "      <td>CREAM CUPID HEARTS COAT HANGER</td>\n",
       "      <td>8</td>\n",
       "      <td>2010-12-01 08:26:00</td>\n",
       "      <td>2.75</td>\n",
       "      <td>17850.0</td>\n",
       "      <td>United Kingdom</td>\n",
       "    </tr>\n",
       "    <tr>\n",
       "      <td>3</td>\n",
       "      <td>536365</td>\n",
       "      <td>84029G</td>\n",
       "      <td>KNITTED UNION FLAG HOT WATER BOTTLE</td>\n",
       "      <td>6</td>\n",
       "      <td>2010-12-01 08:26:00</td>\n",
       "      <td>3.39</td>\n",
       "      <td>17850.0</td>\n",
       "      <td>United Kingdom</td>\n",
       "    </tr>\n",
       "    <tr>\n",
       "      <td>4</td>\n",
       "      <td>536365</td>\n",
       "      <td>84029E</td>\n",
       "      <td>RED WOOLLY HOTTIE WHITE HEART.</td>\n",
       "      <td>6</td>\n",
       "      <td>2010-12-01 08:26:00</td>\n",
       "      <td>3.39</td>\n",
       "      <td>17850.0</td>\n",
       "      <td>United Kingdom</td>\n",
       "    </tr>\n",
       "  </tbody>\n",
       "</table>\n",
       "</div>"
      ],
      "text/plain": [
       "  transaction id product id                  product description  \\\n",
       "0         536365     85123A   WHITE HANGING HEART T-LIGHT HOLDER   \n",
       "1         536365      71053                  WHITE METAL LANTERN   \n",
       "2         536365     84406B       CREAM CUPID HEARTS COAT HANGER   \n",
       "3         536365     84029G  KNITTED UNION FLAG HOT WATER BOTTLE   \n",
       "4         536365     84029E       RED WOOLLY HOTTIE WHITE HEART.   \n",
       "\n",
       "   quantity sold transaction timestamp  unit price  customer id  \\\n",
       "0              6   2010-12-01 08:26:00        2.55      17850.0   \n",
       "1              6   2010-12-01 08:26:00        3.39      17850.0   \n",
       "2              8   2010-12-01 08:26:00        2.75      17850.0   \n",
       "3              6   2010-12-01 08:26:00        3.39      17850.0   \n",
       "4              6   2010-12-01 08:26:00        3.39      17850.0   \n",
       "\n",
       "  transaction country  \n",
       "0      United Kingdom  \n",
       "1      United Kingdom  \n",
       "2      United Kingdom  \n",
       "3      United Kingdom  \n",
       "4      United Kingdom  "
      ]
     },
     "execution_count": 3,
     "metadata": {},
     "output_type": "execute_result"
    }
   ],
   "source": [
    "df_sales.head() #Print first 5 Rows"
   ]
  },
  {
   "cell_type": "code",
   "execution_count": 4,
   "metadata": {},
   "outputs": [
    {
     "data": {
      "text/plain": [
       "transaction id                0\n",
       "product id                    0\n",
       "product description        1454\n",
       "quantity sold                 0\n",
       "transaction timestamp         0\n",
       "unit price                    0\n",
       "customer id              135080\n",
       "transaction country           0\n",
       "dtype: int64"
      ]
     },
     "execution_count": 4,
     "metadata": {},
     "output_type": "execute_result"
    }
   ],
   "source": [
    "#checking if it has missing values\n",
    "df_sales.isnull().sum()"
   ]
  },
  {
   "cell_type": "code",
   "execution_count": 5,
   "metadata": {},
   "outputs": [],
   "source": [
    "#transcation_id,customer_id,product_id these are redundant features.\n",
    "df_sales=df_sales.drop(['transaction id','product id','customer id'],axis=1)"
   ]
  },
  {
   "cell_type": "code",
   "execution_count": 7,
   "metadata": {},
   "outputs": [
    {
     "data": {
      "text/html": [
       "<div>\n",
       "<style scoped>\n",
       "    .dataframe tbody tr th:only-of-type {\n",
       "        vertical-align: middle;\n",
       "    }\n",
       "\n",
       "    .dataframe tbody tr th {\n",
       "        vertical-align: top;\n",
       "    }\n",
       "\n",
       "    .dataframe thead th {\n",
       "        text-align: right;\n",
       "    }\n",
       "</style>\n",
       "<table border=\"1\" class=\"dataframe\">\n",
       "  <thead>\n",
       "    <tr style=\"text-align: right;\">\n",
       "      <th></th>\n",
       "      <th>product description</th>\n",
       "      <th>quantity sold</th>\n",
       "      <th>transaction timestamp</th>\n",
       "      <th>unit price</th>\n",
       "      <th>transaction country</th>\n",
       "    </tr>\n",
       "  </thead>\n",
       "  <tbody>\n",
       "    <tr>\n",
       "      <td>0</td>\n",
       "      <td>WHITE HANGING HEART T-LIGHT HOLDER</td>\n",
       "      <td>6</td>\n",
       "      <td>2010-12-01 08:26:00</td>\n",
       "      <td>2.55</td>\n",
       "      <td>United Kingdom</td>\n",
       "    </tr>\n",
       "    <tr>\n",
       "      <td>1</td>\n",
       "      <td>WHITE METAL LANTERN</td>\n",
       "      <td>6</td>\n",
       "      <td>2010-12-01 08:26:00</td>\n",
       "      <td>3.39</td>\n",
       "      <td>United Kingdom</td>\n",
       "    </tr>\n",
       "    <tr>\n",
       "      <td>2</td>\n",
       "      <td>CREAM CUPID HEARTS COAT HANGER</td>\n",
       "      <td>8</td>\n",
       "      <td>2010-12-01 08:26:00</td>\n",
       "      <td>2.75</td>\n",
       "      <td>United Kingdom</td>\n",
       "    </tr>\n",
       "    <tr>\n",
       "      <td>3</td>\n",
       "      <td>KNITTED UNION FLAG HOT WATER BOTTLE</td>\n",
       "      <td>6</td>\n",
       "      <td>2010-12-01 08:26:00</td>\n",
       "      <td>3.39</td>\n",
       "      <td>United Kingdom</td>\n",
       "    </tr>\n",
       "    <tr>\n",
       "      <td>4</td>\n",
       "      <td>RED WOOLLY HOTTIE WHITE HEART.</td>\n",
       "      <td>6</td>\n",
       "      <td>2010-12-01 08:26:00</td>\n",
       "      <td>3.39</td>\n",
       "      <td>United Kingdom</td>\n",
       "    </tr>\n",
       "  </tbody>\n",
       "</table>\n",
       "</div>"
      ],
      "text/plain": [
       "                   product description  quantity sold transaction timestamp  \\\n",
       "0   WHITE HANGING HEART T-LIGHT HOLDER              6   2010-12-01 08:26:00   \n",
       "1                  WHITE METAL LANTERN              6   2010-12-01 08:26:00   \n",
       "2       CREAM CUPID HEARTS COAT HANGER              8   2010-12-01 08:26:00   \n",
       "3  KNITTED UNION FLAG HOT WATER BOTTLE              6   2010-12-01 08:26:00   \n",
       "4       RED WOOLLY HOTTIE WHITE HEART.              6   2010-12-01 08:26:00   \n",
       "\n",
       "   unit price transaction country  \n",
       "0        2.55      United Kingdom  \n",
       "1        3.39      United Kingdom  \n",
       "2        2.75      United Kingdom  \n",
       "3        3.39      United Kingdom  \n",
       "4        3.39      United Kingdom  "
      ]
     },
     "execution_count": 7,
     "metadata": {},
     "output_type": "execute_result"
    }
   ],
   "source": [
    "df_sales.head()"
   ]
  },
  {
   "cell_type": "markdown",
   "metadata": {},
   "source": [
    "---\n",
    "## Analysis 1: Number of transcations per country¶\n",
    "---"
   ]
  },
  {
   "cell_type": "code",
   "execution_count": 8,
   "metadata": {},
   "outputs": [
    {
     "name": "stdout",
     "output_type": "stream",
     "text": [
      "{'Portugal', 'Saudi Arabia', 'Channel Islands', 'Cyprus', 'Lithuania', 'Iceland', 'France', 'Brazil', 'Spain', 'USA', 'EIRE', 'Canada', 'Singapore', 'Belgium', 'Hong Kong', 'Poland', 'Greece', 'Switzerland', 'Finland', 'Bahrain', 'United Kingdom', 'Israel', 'Netherlands', 'Norway', 'Italy', 'Unspecified', 'RSA', 'Sweden', 'Australia', 'Malta', 'Lebanon', 'Japan', 'Austria', 'United Arab Emirates', 'Denmark', 'European Community', 'Czech Republic', 'Germany'}\n",
      "Total number of countries: 38\n"
     ]
    }
   ],
   "source": [
    "#now we will be having a look at different countries where the order is placed from\n",
    "print(set(df_sales['transaction country']))\n",
    "print('Total number of countries:',len(set(df_sales['transaction country'])))"
   ]
  },
  {
   "cell_type": "code",
   "execution_count": 9,
   "metadata": {},
   "outputs": [
    {
     "name": "stdout",
     "output_type": "stream",
     "text": [
      "{'United Kingdom': 495478, 'France': 8557, 'Australia': 1259, 'Netherlands': 2371, 'Germany': 9495, 'Norway': 1086, 'EIRE': 8196, 'Switzerland': 2002, 'Spain': 2533, 'Poland': 341, 'Portugal': 1519, 'Italy': 803, 'Belgium': 2069, 'Lithuania': 35, 'Japan': 358, 'Iceland': 182, 'Channel Islands': 758, 'Denmark': 389, 'Cyprus': 622, 'Sweden': 462, 'Austria': 401, 'Israel': 297, 'Finland': 695, 'Bahrain': 19, 'Greece': 146, 'Hong Kong': 288, 'Singapore': 229, 'Lebanon': 45, 'United Arab Emirates': 68, 'Saudi Arabia': 10, 'Czech Republic': 30, 'Canada': 151, 'Unspecified': 446, 'Brazil': 32, 'USA': 291, 'European Community': 61, 'Malta': 127, 'RSA': 58}\n"
     ]
    }
   ],
   "source": [
    "#now counting how many transcations from each country in a span of 12 months\n",
    "country_wise_transcount={}\n",
    "for i in df_sales['transaction country']:\n",
    "    if i not in country_wise_transcount.keys():\n",
    "        country_wise_transcount.update({i:1}) #Maintaining a Map {Country:Count}\n",
    "    else:\n",
    "        country_wise_transcount[i]+=1\n",
    "print(country_wise_transcount) #this will give me total count of transaction per country"
   ]
  },
  {
   "cell_type": "markdown",
   "metadata": {},
   "source": [
    "---\n",
    "## Analysis 2: Finding the country with Minimum and Maximum transaction\n",
    "---"
   ]
  },
  {
   "cell_type": "code",
   "execution_count": 11,
   "metadata": {},
   "outputs": [
    {
     "name": "stdout",
     "output_type": "stream",
     "text": [
      "Max transactions are from United Kingdom : 495478\n",
      "Min transactions are from Saudi Arabia : 10\n"
     ]
    }
   ],
   "source": [
    "max_trans=max(country_wise_transcount.values())\n",
    "min_trans=min(country_wise_transcount.values())\n",
    "for i in country_wise_transcount:\n",
    "    if country_wise_transcount[i]==max_trans:\n",
    "        print('Max transactions are from',i,':',max_trans)\n",
    "    if country_wise_transcount[i]==min_trans:\n",
    "        print('Min transactions are from',i,':',min_trans)"
   ]
  },
  {
   "cell_type": "code",
   "execution_count": null,
   "metadata": {},
   "outputs": [],
   "source": []
  },
  {
   "cell_type": "markdown",
   "metadata": {},
   "source": [
    "---\n",
    "## Analysis 3: Quantity sold per country\n",
    "---"
   ]
  },
  {
   "cell_type": "code",
   "execution_count": 12,
   "metadata": {},
   "outputs": [
    {
     "name": "stdout",
     "output_type": "stream",
     "text": [
      "{'United Kingdom': 4263829, 'France': 110480, 'Australia': 83653, 'Netherlands': 200128, 'Germany': 117448, 'Norway': 19247, 'EIRE': 142637, 'Switzerland': 30325, 'Spain': 26824, 'Poland': 3653, 'Portugal': 16180, 'Italy': 7999, 'Belgium': 23152, 'Lithuania': 652, 'Japan': 25218, 'Iceland': 2458, 'Channel Islands': 9479, 'Denmark': 8188, 'Cyprus': 6317, 'Sweden': 35637, 'Austria': 4827, 'Israel': 4353, 'Finland': 10666, 'Bahrain': 260, 'Greece': 1556, 'Hong Kong': 4769, 'Singapore': 5234, 'Lebanon': 386, 'United Arab Emirates': 982, 'Saudi Arabia': 75, 'Czech Republic': 592, 'Canada': 2763, 'Unspecified': 3300, 'Brazil': 356, 'USA': 1034, 'European Community': 497, 'Malta': 944, 'RSA': 352}\n"
     ]
    }
   ],
   "source": [
    "qty_sold_per_country={}\n",
    "val=0\n",
    "for j,k in df_sales.iterrows():\n",
    "    val=k[1]\n",
    "    if k[4] not in qty_sold_per_country.keys():\n",
    "        qty_sold_per_country.update({k[4]:val}) #Maintaining a Map {Country:Amount}\n",
    "    else:\n",
    "        qty_sold_per_country[k[4]]+=val\n",
    "print(qty_sold_per_country)    "
   ]
  },
  {
   "cell_type": "markdown",
   "metadata": {},
   "source": [
    "---\n",
    "## Analysis 4: Finding average quantity sold per transaction \n",
    "---"
   ]
  },
  {
   "cell_type": "code",
   "execution_count": 13,
   "metadata": {},
   "outputs": [
    {
     "name": "stdout",
     "output_type": "stream",
     "text": [
      "{'United Kingdom': 8.605486015524402, 'France': 12.91106696272058, 'Australia': 66.4440031771247, 'Netherlands': 84.4065795023197, 'Germany': 12.369457609268036, 'Norway': 17.722836095764272, 'EIRE': 17.40324548560273, 'Switzerland': 15.147352647352648, 'Spain': 10.58981444926964, 'Poland': 10.712609970674487, 'Portugal': 10.65174456879526, 'Italy': 9.961394769613948, 'Belgium': 11.18994683421943, 'Lithuania': 18.62857142857143, 'Japan': 70.44134078212291, 'Iceland': 13.505494505494505, 'Channel Islands': 12.505277044854882, 'Denmark': 21.04884318766067, 'Cyprus': 10.155948553054662, 'Sweden': 77.13636363636364, 'Austria': 12.037406483790523, 'Israel': 14.656565656565656, 'Finland': 15.346762589928058, 'Bahrain': 13.68421052631579, 'Greece': 10.657534246575343, 'Hong Kong': 16.55902777777778, 'Singapore': 22.85589519650655, 'Lebanon': 8.577777777777778, 'United Arab Emirates': 14.441176470588236, 'Saudi Arabia': 7.5, 'Czech Republic': 19.733333333333334, 'Canada': 18.29801324503311, 'Unspecified': 7.3991031390134525, 'Brazil': 11.125, 'USA': 3.5532646048109964, 'European Community': 8.147540983606557, 'Malta': 7.433070866141732, 'RSA': 6.068965517241379}\n"
     ]
    }
   ],
   "source": [
    "avg_qty_per_trans={}\n",
    "for i in qty_sold_per_country:\n",
    "    avg=qty_sold_per_country[i]/country_wise_transcount[i]\n",
    "    avg_qty_per_trans.update({i:avg})\n",
    "print(avg_qty_per_trans)"
   ]
  },
  {
   "cell_type": "code",
   "execution_count": 15,
   "metadata": {},
   "outputs": [
    {
     "name": "stdout",
     "output_type": "stream",
     "text": [
      "Max avg qty per transaction is from: Netherlands : 84.4065795023197\n",
      "Min avg qty per transaction is from: USA : 3.5532646048109964\n"
     ]
    }
   ],
   "source": [
    "#now finding the minimum and maximum average quantity sold per transaction with country name\n",
    "max_avg_trans=max(avg_qty_per_trans.values())\n",
    "min_avg_trans=min(avg_qty_per_trans.values())\n",
    "for i in avg_qty_per_trans:\n",
    "    if avg_qty_per_trans[i]==max_avg_trans:\n",
    "        print('Max avg qty per transaction is from:',i,':',max_avg_trans)\n",
    "    if avg_qty_per_trans[i]==min_avg_trans:\n",
    "        print('Min avg qty per transaction is from:',i,':',min_avg_trans)"
   ]
  },
  {
   "cell_type": "code",
   "execution_count": 16,
   "metadata": {},
   "outputs": [
    {
     "data": {
      "image/png": "[encoded data removed]",
      "text/plain": [
       "<Figure size 432x288 with 1 Axes>"
      ]
     },
     "metadata": {
      "needs_background": "light"
     },
     "output_type": "display_data"
    }
   ],
   "source": [
    "import matplotlib.pyplot as plt\n",
    "\n",
    "plt.title('Average Qty Sold per Transaction, Country wise')\n",
    "plt.xlabel('Countries') #x axis\n",
    "plt.ylabel('Avg qty sold per transaction') #y axis\n",
    "plt.xticks(rotation=90) #rotating the name of the countries by 90 degrees\n",
    "plt.bar(list(avg_qty_per_trans.keys()),list(avg_qty_per_trans.values()),width=0.8,label='Qty sold per Transaction')\n",
    "plt.grid()"
   ]
  },
  {
   "cell_type": "code",
   "execution_count": null,
   "metadata": {},
   "outputs": [],
   "source": [
    "#we need a column were it would show the total price= qty*unit price"
   ]
  },
  {
   "cell_type": "markdown",
   "metadata": {},
   "source": [
    "---\n",
    "## Analysis 5: Finding avg Total cost per Transaction \n",
    "---"
   ]
  },
  {
   "cell_type": "code",
   "execution_count": null,
   "metadata": {},
   "outputs": [],
   "source": [
    "#total cost= qty*unit price"
   ]
  },
  {
   "cell_type": "code",
   "execution_count": 18,
   "metadata": {},
   "outputs": [],
   "source": [
    "sales=df_sales"
   ]
  },
  {
   "cell_type": "code",
   "execution_count": 19,
   "metadata": {},
   "outputs": [],
   "source": [
    "sales['total cost']=sales['quantity sold']*sales['unit price']"
   ]
  },
  {
   "cell_type": "code",
   "execution_count": 20,
   "metadata": {},
   "outputs": [
    {
     "data": {
      "text/html": [
       "<div>\n",
       "<style scoped>\n",
       "    .dataframe tbody tr th:only-of-type {\n",
       "        vertical-align: middle;\n",
       "    }\n",
       "\n",
       "    .dataframe tbody tr th {\n",
       "        vertical-align: top;\n",
       "    }\n",
       "\n",
       "    .dataframe thead th {\n",
       "        text-align: right;\n",
       "    }\n",
       "</style>\n",
       "<table border=\"1\" class=\"dataframe\">\n",
       "  <thead>\n",
       "    <tr style=\"text-align: right;\">\n",
       "      <th></th>\n",
       "      <th>product description</th>\n",
       "      <th>quantity sold</th>\n",
       "      <th>transaction timestamp</th>\n",
       "      <th>unit price</th>\n",
       "      <th>transaction country</th>\n",
       "      <th>total cost</th>\n",
       "    </tr>\n",
       "  </thead>\n",
       "  <tbody>\n",
       "    <tr>\n",
       "      <td>0</td>\n",
       "      <td>WHITE HANGING HEART T-LIGHT HOLDER</td>\n",
       "      <td>6</td>\n",
       "      <td>2010-12-01 08:26:00</td>\n",
       "      <td>2.55</td>\n",
       "      <td>United Kingdom</td>\n",
       "      <td>15.30</td>\n",
       "    </tr>\n",
       "    <tr>\n",
       "      <td>1</td>\n",
       "      <td>WHITE METAL LANTERN</td>\n",
       "      <td>6</td>\n",
       "      <td>2010-12-01 08:26:00</td>\n",
       "      <td>3.39</td>\n",
       "      <td>United Kingdom</td>\n",
       "      <td>20.34</td>\n",
       "    </tr>\n",
       "    <tr>\n",
       "      <td>2</td>\n",
       "      <td>CREAM CUPID HEARTS COAT HANGER</td>\n",
       "      <td>8</td>\n",
       "      <td>2010-12-01 08:26:00</td>\n",
       "      <td>2.75</td>\n",
       "      <td>United Kingdom</td>\n",
       "      <td>22.00</td>\n",
       "    </tr>\n",
       "    <tr>\n",
       "      <td>3</td>\n",
       "      <td>KNITTED UNION FLAG HOT WATER BOTTLE</td>\n",
       "      <td>6</td>\n",
       "      <td>2010-12-01 08:26:00</td>\n",
       "      <td>3.39</td>\n",
       "      <td>United Kingdom</td>\n",
       "      <td>20.34</td>\n",
       "    </tr>\n",
       "    <tr>\n",
       "      <td>4</td>\n",
       "      <td>RED WOOLLY HOTTIE WHITE HEART.</td>\n",
       "      <td>6</td>\n",
       "      <td>2010-12-01 08:26:00</td>\n",
       "      <td>3.39</td>\n",
       "      <td>United Kingdom</td>\n",
       "      <td>20.34</td>\n",
       "    </tr>\n",
       "  </tbody>\n",
       "</table>\n",
       "</div>"
      ],
      "text/plain": [
       "                   product description  quantity sold transaction timestamp  \\\n",
       "0   WHITE HANGING HEART T-LIGHT HOLDER              6   2010-12-01 08:26:00   \n",
       "1                  WHITE METAL LANTERN              6   2010-12-01 08:26:00   \n",
       "2       CREAM CUPID HEARTS COAT HANGER              8   2010-12-01 08:26:00   \n",
       "3  KNITTED UNION FLAG HOT WATER BOTTLE              6   2010-12-01 08:26:00   \n",
       "4       RED WOOLLY HOTTIE WHITE HEART.              6   2010-12-01 08:26:00   \n",
       "\n",
       "   unit price transaction country  total cost  \n",
       "0        2.55      United Kingdom       15.30  \n",
       "1        3.39      United Kingdom       20.34  \n",
       "2        2.75      United Kingdom       22.00  \n",
       "3        3.39      United Kingdom       20.34  \n",
       "4        3.39      United Kingdom       20.34  "
      ]
     },
     "execution_count": 20,
     "metadata": {},
     "output_type": "execute_result"
    }
   ],
   "source": [
    "sales.head()"
   ]
  },
  {
   "cell_type": "code",
   "execution_count": 21,
   "metadata": {},
   "outputs": [
    {
     "name": "stdout",
     "output_type": "stream",
     "text": [
      "{'United Kingdom': 8187806.364001113, 'France': 197403.90000000002, 'Australia': 137077.26999999973, 'Netherlands': 284661.54000000015, 'Germany': 221698.20999999862, 'Norway': 35163.46000000004, 'EIRE': 263276.81999999826, 'Switzerland': 56385.35000000009, 'Spain': 54774.57999999997, 'Poland': 7213.139999999997, 'Portugal': 29367.019999999993, 'Italy': 16890.510000000002, 'Belgium': 40910.95999999998, 'Lithuania': 1661.06, 'Japan': 35340.62, 'Iceland': 4309.999999999997, 'Channel Islands': 20086.289999999957, 'Denmark': 18768.140000000003, 'Cyprus': 12946.289999999999, 'Sweden': 36595.91, 'Austria': 10154.319999999996, 'Israel': 7907.819999999995, 'Finland': 22326.73999999997, 'Bahrain': 548.4, 'Greece': 4710.5199999999995, 'Hong Kong': 10117.040000000003, 'Singapore': 9120.39, 'Lebanon': 1693.8800000000003, 'United Arab Emirates': 1902.2800000000007, 'Saudi Arabia': 131.17, 'Czech Republic': 707.72, 'Canada': 3666.380000000001, 'Unspecified': 4749.789999999996, 'Brazil': 1143.6000000000001, 'USA': 1730.9200000000005, 'European Community': 1291.75, 'Malta': 2505.4700000000003, 'RSA': 1002.3099999999998}\n"
     ]
    }
   ],
   "source": [
    "countrywise_total_cost={}\n",
    "amt=0\n",
    "for i,j in sales.iterrows():\n",
    "    amt=j[5]\n",
    "    if j[4] not in countrywise_total_cost.keys():\n",
    "        countrywise_total_cost.update({j[4]:amt})\n",
    "    else:\n",
    "        countrywise_total_cost[j[4]]+=amt\n",
    "print(countrywise_total_cost)"
   ]
  },
  {
   "cell_type": "code",
   "execution_count": 24,
   "metadata": {},
   "outputs": [
    {
     "name": "stdout",
     "output_type": "stream",
     "text": [
      "{'United Kingdom': 16.525065419657608, 'France': 23.069288301974993, 'Australia': 108.87789515488461, 'Netherlands': 120.05969633066223, 'Germany': 23.348942601368996, 'Norway': 32.378876611418086, 'EIRE': 32.12259882869672, 'Switzerland': 28.164510489510537, 'Spain': 21.624390051322532, 'Poland': 21.15290322580644, 'Portugal': 19.333127057274517, 'Italy': 21.034259028642595, 'Belgium': 19.773301111648127, 'Lithuania': 47.45885714285714, 'Japan': 98.7168156424581, 'Iceland': 23.681318681318665, 'Channel Islands': 26.499063324538202, 'Denmark': 48.24714652956299, 'Cyprus': 20.813971061093245, 'Sweden': 79.21192640692641, 'Austria': 25.322493765586024, 'Israel': 26.62565656565655, 'Finland': 32.12480575539564, 'Bahrain': 28.86315789473684, 'Greece': 32.26383561643835, 'Hong Kong': 35.12861111111112, 'Singapore': 39.82703056768559, 'Lebanon': 37.64177777777778, 'United Arab Emirates': 27.97470588235295, 'Saudi Arabia': 13.116999999999999, 'Czech Republic': 23.590666666666667, 'Canada': 24.280662251655635, 'Unspecified': 10.649753363228692, 'Brazil': 35.737500000000004, 'USA': 5.948178694158077, 'European Community': 21.17622950819672, 'Malta': 19.728110236220473, 'RSA': 17.281206896551723}\n"
     ]
    }
   ],
   "source": [
    "#now finding the average total cost\n",
    "avg_total_cost={}\n",
    "for i in countrywise_total_cost:\n",
    "    avg_cost=countrywise_total_cost[i]/country_wise_transcount[i]\n",
    "    if i not in avg_total_cost.keys():\n",
    "        avg_total_cost.update({i:avg_cost})\n",
    "    else:\n",
    "        avg_total_cost[i]+=avg_cost\n",
    "print(avg_total_cost)"
   ]
  },
  {
   "cell_type": "code",
   "execution_count": 25,
   "metadata": {},
   "outputs": [
    {
     "data": {
      "image/png": "[encoded data removed]",
      "text/plain": [
       "<Figure size 432x288 with 1 Axes>"
      ]
     },
     "metadata": {
      "needs_background": "light"
     },
     "output_type": "display_data"
    }
   ],
   "source": [
    "#visualizing avg total cost, countrywise\n",
    "plt.title('Average total cost per Transaction, Country wise')\n",
    "plt.xlabel('Countries') #x axis\n",
    "plt.ylabel('Avg total cost per transaction') #y axis\n",
    "plt.xticks(rotation=90) #rotating the name of the countries by 90 degrees\n",
    "plt.bar(list(avg_total_cost.keys()),list(avg_total_cost.values()),width=0.8,label='Avg total cost per Transaction',color='orange')\n",
    "plt.grid()\n",
    "plt.show()"
   ]
  },
  {
   "cell_type": "markdown",
   "metadata": {},
   "source": [
    "---\n",
    "## Analysis 6: Report comparing Avg. Qty per Trans and Avg. Total cost per Trans\n",
    "---"
   ]
  },
  {
   "cell_type": "code",
   "execution_count": 26,
   "metadata": {},
   "outputs": [
    {
     "name": "stdout",
     "output_type": "stream",
     "text": [
      "                 Country  Avg Qty per Trans  Avg total cost per Trans\n",
      "0         United Kingdom           8.605486                 16.525065\n",
      "1                 France          12.911067                 23.069288\n",
      "2              Australia          66.444003                108.877895\n",
      "3            Netherlands          84.406580                120.059696\n",
      "4                Germany          12.369458                 23.348943\n",
      "5                 Norway          17.722836                 32.378877\n",
      "6                   EIRE          17.403245                 32.122599\n",
      "7            Switzerland          15.147353                 28.164510\n",
      "8                  Spain          10.589814                 21.624390\n",
      "9                 Poland          10.712610                 21.152903\n",
      "10              Portugal          10.651745                 19.333127\n",
      "11                 Italy           9.961395                 21.034259\n",
      "12               Belgium          11.189947                 19.773301\n",
      "13             Lithuania          18.628571                 47.458857\n",
      "14                 Japan          70.441341                 98.716816\n",
      "15               Iceland          13.505495                 23.681319\n",
      "16       Channel Islands          12.505277                 26.499063\n",
      "17               Denmark          21.048843                 48.247147\n",
      "18                Cyprus          10.155949                 20.813971\n",
      "19                Sweden          77.136364                 79.211926\n",
      "20               Austria          12.037406                 25.322494\n",
      "21                Israel          14.656566                 26.625657\n",
      "22               Finland          15.346763                 32.124806\n",
      "23               Bahrain          13.684211                 28.863158\n",
      "24                Greece          10.657534                 32.263836\n",
      "25             Hong Kong          16.559028                 35.128611\n",
      "26             Singapore          22.855895                 39.827031\n",
      "27               Lebanon           8.577778                 37.641778\n",
      "28  United Arab Emirates          14.441176                 27.974706\n",
      "29          Saudi Arabia           7.500000                 13.117000\n",
      "30        Czech Republic          19.733333                 23.590667\n",
      "31                Canada          18.298013                 24.280662\n",
      "32           Unspecified           7.399103                 10.649753\n",
      "33                Brazil          11.125000                 35.737500\n",
      "34                   USA           3.553265                  5.948179\n",
      "35    European Community           8.147541                 21.176230\n",
      "36                 Malta           7.433071                 19.728110\n",
      "37                   RSA           6.068966                 17.281207\n"
     ]
    }
   ],
   "source": [
    "df_report_sales=pd.DataFrame()\n",
    "df_report_sales['Country']=avg_total_cost.keys()\n",
    "df_report_sales['Avg Qty per Trans']=avg_qty_per_trans.values()\n",
    "df_report_sales['Avg total cost per Trans']=avg_total_cost.values()\n",
    "print(df_report_sales)"
   ]
  },
  {
   "cell_type": "code",
   "execution_count": 27,
   "metadata": {},
   "outputs": [
    {
     "name": "stdout",
     "output_type": "stream",
     "text": [
      "Rank of Counteries on avg qty sold per transaction\n",
      "\n",
      "1 Netherlands : 84.4065795023197\n",
      "2 Sweden : 77.13636363636364\n",
      "3 Japan : 70.44134078212291\n",
      "4 Australia : 66.4440031771247\n",
      "5 Singapore : 22.85589519650655\n",
      "6 Denmark : 21.04884318766067\n",
      "7 Czech Republic : 19.733333333333334\n",
      "8 Lithuania : 18.62857142857143\n",
      "9 Canada : 18.29801324503311\n",
      "10 Norway : 17.722836095764272\n",
      "11 EIRE : 17.40324548560273\n",
      "12 Hong Kong : 16.55902777777778\n",
      "13 Finland : 15.346762589928058\n",
      "14 Switzerland : 15.147352647352648\n",
      "15 Israel : 14.656565656565656\n",
      "16 United Arab Emirates : 14.441176470588236\n",
      "17 Bahrain : 13.68421052631579\n",
      "18 Iceland : 13.505494505494505\n",
      "19 France : 12.91106696272058\n",
      "20 Channel Islands : 12.505277044854882\n",
      "21 Germany : 12.369457609268036\n",
      "22 Austria : 12.037406483790523\n",
      "23 Belgium : 11.18994683421943\n",
      "24 Brazil : 11.125\n",
      "25 Poland : 10.712609970674487\n",
      "26 Greece : 10.657534246575343\n",
      "27 Portugal : 10.65174456879526\n",
      "28 Spain : 10.58981444926964\n",
      "29 Cyprus : 10.155948553054662\n",
      "30 Italy : 9.961394769613948\n",
      "31 United Kingdom : 8.605486015524402\n",
      "32 Lebanon : 8.577777777777778\n",
      "33 European Community : 8.147540983606557\n",
      "34 Saudi Arabia : 7.5\n",
      "35 Malta : 7.433070866141732\n",
      "36 Unspecified : 7.3991031390134525\n",
      "37 RSA : 6.068965517241379\n",
      "38 USA : 3.5532646048109964\n"
     ]
    }
   ],
   "source": [
    "#printing ranks of avg qty sold per transaction in desc. \n",
    "report_qty={}\n",
    "print('Rank of Counteries on avg qty sold per transaction')\n",
    "print()\n",
    "for key,value in avg_qty_per_trans.items():\n",
    "    report_qty.update({value:key})\n",
    "report=sorted(report_qty,reverse=True)\n",
    "#print(report)\n",
    "j=1\n",
    "for i in report:\n",
    "    print(j,report_qty[i],\":\",i)\n",
    "    j+=1"
   ]
  },
  {
   "cell_type": "code",
   "execution_count": 29,
   "metadata": {},
   "outputs": [
    {
     "name": "stdout",
     "output_type": "stream",
     "text": [
      "Rank of Counteries on avg total cost per transaction\n",
      "1 Netherlands : 120.05969633066223\n",
      "2 Australia : 108.87789515488461\n",
      "3 Japan : 98.7168156424581\n",
      "4 Sweden : 79.21192640692641\n",
      "5 Denmark : 48.24714652956299\n",
      "6 Lithuania : 47.45885714285714\n",
      "7 Singapore : 39.82703056768559\n",
      "8 Lebanon : 37.64177777777778\n",
      "9 Brazil : 35.737500000000004\n",
      "10 Hong Kong : 35.12861111111112\n",
      "11 Norway : 32.378876611418086\n",
      "12 Greece : 32.26383561643835\n",
      "13 Finland : 32.12480575539564\n",
      "14 EIRE : 32.12259882869672\n",
      "15 Bahrain : 28.86315789473684\n",
      "16 Switzerland : 28.164510489510537\n",
      "17 United Arab Emirates : 27.97470588235295\n",
      "18 Israel : 26.62565656565655\n",
      "19 Channel Islands : 26.499063324538202\n",
      "20 Austria : 25.322493765586024\n",
      "21 Canada : 24.280662251655635\n",
      "22 Iceland : 23.681318681318665\n",
      "23 Czech Republic : 23.590666666666667\n",
      "24 Germany : 23.348942601368996\n",
      "25 France : 23.069288301974993\n",
      "26 Spain : 21.624390051322532\n",
      "27 European Community : 21.17622950819672\n",
      "28 Poland : 21.15290322580644\n",
      "29 Italy : 21.034259028642595\n",
      "30 Cyprus : 20.813971061093245\n",
      "31 Belgium : 19.773301111648127\n",
      "32 Malta : 19.728110236220473\n",
      "33 Portugal : 19.333127057274517\n",
      "34 RSA : 17.281206896551723\n",
      "35 United Kingdom : 16.525065419657608\n",
      "36 Saudi Arabia : 13.116999999999999\n",
      "37 Unspecified : 10.649753363228692\n",
      "38 USA : 5.948178694158077\n"
     ]
    }
   ],
   "source": [
    "report_tc={}\n",
    "print('Rank of Counteries on avg total cost per transaction')\n",
    "for key,value in avg_total_cost.items():\n",
    "    report_tc.update({value:key})\n",
    "tc_report=sorted(report_tc,reverse=True)\n",
    "#print(report)\n",
    "j=1\n",
    "for i in tc_report:\n",
    "    print(j,report_tc[i],\":\",i)\n",
    "    j+=1"
   ]
  },
  {
   "cell_type": "code",
   "execution_count": null,
   "metadata": {},
   "outputs": [],
   "source": [
    "#now coming to the second table: date"
   ]
  },
  {
   "cell_type": "code",
   "execution_count": 30,
   "metadata": {},
   "outputs": [],
   "source": [
    "#reading excel file\n",
    "df_date=pd.read_excel('/home/jishant/Desktop/Project/date.xlsx')"
   ]
  },
  {
   "cell_type": "code",
   "execution_count": 31,
   "metadata": {},
   "outputs": [
    {
     "data": {
      "text/html": [
       "<div>\n",
       "<style scoped>\n",
       "    .dataframe tbody tr th:only-of-type {\n",
       "        vertical-align: middle;\n",
       "    }\n",
       "\n",
       "    .dataframe tbody tr th {\n",
       "        vertical-align: top;\n",
       "    }\n",
       "\n",
       "    .dataframe thead th {\n",
       "        text-align: right;\n",
       "    }\n",
       "</style>\n",
       "<table border=\"1\" class=\"dataframe\">\n",
       "  <thead>\n",
       "    <tr style=\"text-align: right;\">\n",
       "      <th></th>\n",
       "      <th>timestamp</th>\n",
       "      <th>date</th>\n",
       "      <th>day_name</th>\n",
       "      <th>day_of_month</th>\n",
       "      <th>month_of_year</th>\n",
       "      <th>time_of_day(hh:mm:ss)</th>\n",
       "    </tr>\n",
       "  </thead>\n",
       "  <tbody>\n",
       "    <tr>\n",
       "      <th>0</th>\n",
       "      <td>2010-12-01 08:26:00</td>\n",
       "      <td>2010-12-01</td>\n",
       "      <td>Wednesday</td>\n",
       "      <td>1</td>\n",
       "      <td>December</td>\n",
       "      <td>08:26:00</td>\n",
       "    </tr>\n",
       "    <tr>\n",
       "      <th>1</th>\n",
       "      <td>2010-12-01 08:26:00</td>\n",
       "      <td>2010-12-01</td>\n",
       "      <td>Wednesday</td>\n",
       "      <td>1</td>\n",
       "      <td>December</td>\n",
       "      <td>08:26:00</td>\n",
       "    </tr>\n",
       "    <tr>\n",
       "      <th>2</th>\n",
       "      <td>2010-12-01 08:26:00</td>\n",
       "      <td>2010-12-01</td>\n",
       "      <td>Wednesday</td>\n",
       "      <td>1</td>\n",
       "      <td>December</td>\n",
       "      <td>08:26:00</td>\n",
       "    </tr>\n",
       "    <tr>\n",
       "      <th>3</th>\n",
       "      <td>2010-12-01 08:26:00</td>\n",
       "      <td>2010-12-01</td>\n",
       "      <td>Wednesday</td>\n",
       "      <td>1</td>\n",
       "      <td>December</td>\n",
       "      <td>08:26:00</td>\n",
       "    </tr>\n",
       "    <tr>\n",
       "      <th>4</th>\n",
       "      <td>2010-12-01 08:26:00</td>\n",
       "      <td>2010-12-01</td>\n",
       "      <td>Wednesday</td>\n",
       "      <td>1</td>\n",
       "      <td>December</td>\n",
       "      <td>08:26:00</td>\n",
       "    </tr>\n",
       "  </tbody>\n",
       "</table>\n",
       "</div>"
      ],
      "text/plain": [
       "  timestamp                     date   day_name  day_of_month month_of_year  \\\n",
       "0     2010-12-01 08:26:00 2010-12-01  Wednesday             1      December   \n",
       "1     2010-12-01 08:26:00 2010-12-01  Wednesday             1      December   \n",
       "2     2010-12-01 08:26:00 2010-12-01  Wednesday             1      December   \n",
       "3     2010-12-01 08:26:00 2010-12-01  Wednesday             1      December   \n",
       "4     2010-12-01 08:26:00 2010-12-01  Wednesday             1      December   \n",
       "\n",
       "  time_of_day(hh:mm:ss)  \n",
       "0              08:26:00  \n",
       "1              08:26:00  \n",
       "2              08:26:00  \n",
       "3              08:26:00  \n",
       "4              08:26:00  "
      ]
     },
     "execution_count": 31,
     "metadata": {},
     "output_type": "execute_result"
    }
   ],
   "source": [
    "df_date.head()"
   ]
  },
  {
   "cell_type": "code",
   "execution_count": 32,
   "metadata": {},
   "outputs": [
    {
     "data": {
      "text/plain": [
       "12"
      ]
     },
     "execution_count": 32,
     "metadata": {},
     "output_type": "execute_result"
    }
   ],
   "source": [
    "len(set(df_date['month_of_year'])) #to see the unique values"
   ]
  },
  {
   "cell_type": "code",
   "execution_count": 33,
   "metadata": {},
   "outputs": [
    {
     "data": {
      "text/plain": [
       "{'Friday', 'Monday', 'Sunday', 'Thursday', 'Tuesday', 'Wednesday'}"
      ]
     },
     "execution_count": 33,
     "metadata": {},
     "output_type": "execute_result"
    }
   ],
   "source": [
    "#to see what all days are there\n",
    "set(df_date['day_name']) #saturday is not there in the dataset"
   ]
  },
  {
   "cell_type": "code",
   "execution_count": 34,
   "metadata": {},
   "outputs": [
    {
     "data": {
      "text/html": [
       "<div>\n",
       "<style scoped>\n",
       "    .dataframe tbody tr th:only-of-type {\n",
       "        vertical-align: middle;\n",
       "    }\n",
       "\n",
       "    .dataframe tbody tr th {\n",
       "        vertical-align: top;\n",
       "    }\n",
       "\n",
       "    .dataframe thead th {\n",
       "        text-align: right;\n",
       "    }\n",
       "</style>\n",
       "<table border=\"1\" class=\"dataframe\">\n",
       "  <thead>\n",
       "    <tr style=\"text-align: right;\">\n",
       "      <th></th>\n",
       "      <th>product description</th>\n",
       "      <th>quantity sold</th>\n",
       "      <th>transaction timestamp</th>\n",
       "      <th>unit price</th>\n",
       "      <th>transaction country</th>\n",
       "      <th>total cost</th>\n",
       "    </tr>\n",
       "  </thead>\n",
       "  <tbody>\n",
       "    <tr>\n",
       "      <th>0</th>\n",
       "      <td>WHITE HANGING HEART T-LIGHT HOLDER</td>\n",
       "      <td>6</td>\n",
       "      <td>2010-12-01 08:26:00</td>\n",
       "      <td>2.55</td>\n",
       "      <td>United Kingdom</td>\n",
       "      <td>15.30</td>\n",
       "    </tr>\n",
       "    <tr>\n",
       "      <th>1</th>\n",
       "      <td>WHITE METAL LANTERN</td>\n",
       "      <td>6</td>\n",
       "      <td>2010-12-01 08:26:00</td>\n",
       "      <td>3.39</td>\n",
       "      <td>United Kingdom</td>\n",
       "      <td>20.34</td>\n",
       "    </tr>\n",
       "    <tr>\n",
       "      <th>2</th>\n",
       "      <td>CREAM CUPID HEARTS COAT HANGER</td>\n",
       "      <td>8</td>\n",
       "      <td>2010-12-01 08:26:00</td>\n",
       "      <td>2.75</td>\n",
       "      <td>United Kingdom</td>\n",
       "      <td>22.00</td>\n",
       "    </tr>\n",
       "    <tr>\n",
       "      <th>3</th>\n",
       "      <td>KNITTED UNION FLAG HOT WATER BOTTLE</td>\n",
       "      <td>6</td>\n",
       "      <td>2010-12-01 08:26:00</td>\n",
       "      <td>3.39</td>\n",
       "      <td>United Kingdom</td>\n",
       "      <td>20.34</td>\n",
       "    </tr>\n",
       "    <tr>\n",
       "      <th>4</th>\n",
       "      <td>RED WOOLLY HOTTIE WHITE HEART.</td>\n",
       "      <td>6</td>\n",
       "      <td>2010-12-01 08:26:00</td>\n",
       "      <td>3.39</td>\n",
       "      <td>United Kingdom</td>\n",
       "      <td>20.34</td>\n",
       "    </tr>\n",
       "  </tbody>\n",
       "</table>\n",
       "</div>"
      ],
      "text/plain": [
       "                   product description  quantity sold transaction timestamp  \\\n",
       "0   WHITE HANGING HEART T-LIGHT HOLDER              6   2010-12-01 08:26:00   \n",
       "1                  WHITE METAL LANTERN              6   2010-12-01 08:26:00   \n",
       "2       CREAM CUPID HEARTS COAT HANGER              8   2010-12-01 08:26:00   \n",
       "3  KNITTED UNION FLAG HOT WATER BOTTLE              6   2010-12-01 08:26:00   \n",
       "4       RED WOOLLY HOTTIE WHITE HEART.              6   2010-12-01 08:26:00   \n",
       "\n",
       "   unit price transaction country  total cost  \n",
       "0        2.55      United Kingdom       15.30  \n",
       "1        3.39      United Kingdom       20.34  \n",
       "2        2.75      United Kingdom       22.00  \n",
       "3        3.39      United Kingdom       20.34  \n",
       "4        3.39      United Kingdom       20.34  "
      ]
     },
     "execution_count": 34,
     "metadata": {},
     "output_type": "execute_result"
    }
   ],
   "source": [
    "final_table=sales\n",
    "final_table.head()"
   ]
  },
  {
   "cell_type": "code",
   "execution_count": 35,
   "metadata": {},
   "outputs": [],
   "source": [
    "final_table['day_name']=df_date['day_name']"
   ]
  },
  {
   "cell_type": "code",
   "execution_count": 36,
   "metadata": {},
   "outputs": [
    {
     "data": {
      "text/html": [
       "<div>\n",
       "<style scoped>\n",
       "    .dataframe tbody tr th:only-of-type {\n",
       "        vertical-align: middle;\n",
       "    }\n",
       "\n",
       "    .dataframe tbody tr th {\n",
       "        vertical-align: top;\n",
       "    }\n",
       "\n",
       "    .dataframe thead th {\n",
       "        text-align: right;\n",
       "    }\n",
       "</style>\n",
       "<table border=\"1\" class=\"dataframe\">\n",
       "  <thead>\n",
       "    <tr style=\"text-align: right;\">\n",
       "      <th></th>\n",
       "      <th>product description</th>\n",
       "      <th>quantity sold</th>\n",
       "      <th>transaction timestamp</th>\n",
       "      <th>unit price</th>\n",
       "      <th>transaction country</th>\n",
       "      <th>total cost</th>\n",
       "      <th>day_name</th>\n",
       "    </tr>\n",
       "  </thead>\n",
       "  <tbody>\n",
       "    <tr>\n",
       "      <th>0</th>\n",
       "      <td>WHITE HANGING HEART T-LIGHT HOLDER</td>\n",
       "      <td>6</td>\n",
       "      <td>2010-12-01 08:26:00</td>\n",
       "      <td>2.55</td>\n",
       "      <td>United Kingdom</td>\n",
       "      <td>15.30</td>\n",
       "      <td>Wednesday</td>\n",
       "    </tr>\n",
       "    <tr>\n",
       "      <th>1</th>\n",
       "      <td>WHITE METAL LANTERN</td>\n",
       "      <td>6</td>\n",
       "      <td>2010-12-01 08:26:00</td>\n",
       "      <td>3.39</td>\n",
       "      <td>United Kingdom</td>\n",
       "      <td>20.34</td>\n",
       "      <td>Wednesday</td>\n",
       "    </tr>\n",
       "    <tr>\n",
       "      <th>2</th>\n",
       "      <td>CREAM CUPID HEARTS COAT HANGER</td>\n",
       "      <td>8</td>\n",
       "      <td>2010-12-01 08:26:00</td>\n",
       "      <td>2.75</td>\n",
       "      <td>United Kingdom</td>\n",
       "      <td>22.00</td>\n",
       "      <td>Wednesday</td>\n",
       "    </tr>\n",
       "    <tr>\n",
       "      <th>3</th>\n",
       "      <td>KNITTED UNION FLAG HOT WATER BOTTLE</td>\n",
       "      <td>6</td>\n",
       "      <td>2010-12-01 08:26:00</td>\n",
       "      <td>3.39</td>\n",
       "      <td>United Kingdom</td>\n",
       "      <td>20.34</td>\n",
       "      <td>Wednesday</td>\n",
       "    </tr>\n",
       "    <tr>\n",
       "      <th>4</th>\n",
       "      <td>RED WOOLLY HOTTIE WHITE HEART.</td>\n",
       "      <td>6</td>\n",
       "      <td>2010-12-01 08:26:00</td>\n",
       "      <td>3.39</td>\n",
       "      <td>United Kingdom</td>\n",
       "      <td>20.34</td>\n",
       "      <td>Wednesday</td>\n",
       "    </tr>\n",
       "  </tbody>\n",
       "</table>\n",
       "</div>"
      ],
      "text/plain": [
       "                   product description  quantity sold transaction timestamp  \\\n",
       "0   WHITE HANGING HEART T-LIGHT HOLDER              6   2010-12-01 08:26:00   \n",
       "1                  WHITE METAL LANTERN              6   2010-12-01 08:26:00   \n",
       "2       CREAM CUPID HEARTS COAT HANGER              8   2010-12-01 08:26:00   \n",
       "3  KNITTED UNION FLAG HOT WATER BOTTLE              6   2010-12-01 08:26:00   \n",
       "4       RED WOOLLY HOTTIE WHITE HEART.              6   2010-12-01 08:26:00   \n",
       "\n",
       "   unit price transaction country  total cost   day_name  \n",
       "0        2.55      United Kingdom       15.30  Wednesday  \n",
       "1        3.39      United Kingdom       20.34  Wednesday  \n",
       "2        2.75      United Kingdom       22.00  Wednesday  \n",
       "3        3.39      United Kingdom       20.34  Wednesday  \n",
       "4        3.39      United Kingdom       20.34  Wednesday  "
      ]
     },
     "execution_count": 36,
     "metadata": {},
     "output_type": "execute_result"
    }
   ],
   "source": [
    "final_table.head()"
   ]
  },
  {
   "cell_type": "code",
   "execution_count": 37,
   "metadata": {},
   "outputs": [
    {
     "data": {
      "text/plain": [
       "(541909, 7)"
      ]
     },
     "execution_count": 37,
     "metadata": {},
     "output_type": "execute_result"
    }
   ],
   "source": [
    "final_table.shape"
   ]
  },
  {
   "cell_type": "markdown",
   "metadata": {},
   "source": [
    "---\n",
    "## Analysis 7: Day wise transactions\n",
    "---"
   ]
  },
  {
   "cell_type": "code",
   "execution_count": 38,
   "metadata": {},
   "outputs": [
    {
     "name": "stdout",
     "output_type": "stream",
     "text": [
      "{'Wednesday': 94565, 'Thursday': 103857, 'Friday': 82193, 'Sunday': 64375, 'Monday': 95111, 'Tuesday': 101808}\n",
      "dict_keys(['Wednesday', 'Thursday', 'Friday', 'Sunday', 'Monday', 'Tuesday'])\n"
     ]
    }
   ],
   "source": [
    "day_count={}\n",
    "for i,j in final_table.iterrows():\n",
    "    if j[6] not in day_count.keys():\n",
    "        day_count.update({j[6]:1})\n",
    "    else:\n",
    "        day_count[j[6]]+=1\n",
    "print(day_count)\n",
    "print(day_count.keys())"
   ]
  },
  {
   "cell_type": "code",
   "execution_count": 39,
   "metadata": {},
   "outputs": [
    {
     "data": {
      "image/png": "[encoded data removed]",
      "text/plain": [
       "<Figure size 432x288 with 1 Axes>"
      ]
     },
     "metadata": {
      "needs_background": "light"
     },
     "output_type": "display_data"
    }
   ],
   "source": [
    "#visualising the data\n",
    "import matplotlib.pyplot as plt\n",
    "\n",
    "days=['Monday','Tuesday','Wednesday','Thursday','Friday','Sunday']\n",
    "\n",
    "plt.title('Day wise transaction')\n",
    "plt.xlabel('Days')\n",
    "plt.ylabel('No of transactions')\n",
    "plt.xticks(rotation=45)\n",
    "plt.bar(days,[day_count[i] for i in days],color='g')\n",
    "plt.grid()\n",
    "plt.show()"
   ]
  },
  {
   "cell_type": "code",
   "execution_count": null,
   "metadata": {},
   "outputs": [],
   "source": [
    "#now day wise total cost"
   ]
  },
  {
   "cell_type": "code",
   "execution_count": 40,
   "metadata": {},
   "outputs": [
    {
     "data": {
      "text/plain": [
       "{'Wednesday': 1734147.0099997583,\n",
       " 'Thursday': 2112518.999999767,\n",
       " 'Friday': 1540610.8109998337,\n",
       " 'Sunday': 805678.8910000041,\n",
       " 'Monday': 1588609.4309997542,\n",
       " 'Tuesday': 1966182.7909996351}"
      ]
     },
     "execution_count": 40,
     "metadata": {},
     "output_type": "execute_result"
    }
   ],
   "source": [
    "day_wise_tc={}\n",
    "for i,j in final_table.iterrows():\n",
    "    tc=j[5]\n",
    "    if j[6] not in day_wise_tc.keys():\n",
    "        day_wise_tc.update({j[6]:tc})\n",
    "    else:\n",
    "        day_wise_tc[j[6]]+=tc\n",
    "day_wise_tc"
   ]
  },
  {
   "cell_type": "code",
   "execution_count": 41,
   "metadata": {},
   "outputs": [
    {
     "data": {
      "image/png": "[encoded data removed]",
      "text/plain": [
       "<Figure size 432x288 with 1 Axes>"
      ]
     },
     "metadata": {
      "needs_background": "light"
     },
     "output_type": "display_data"
    }
   ],
   "source": [
    "plt.title('Day wise total cost')\n",
    "plt.xlabel('Days')\n",
    "plt.ylabel('Total cost (in thousands)')\n",
    "plt.xticks(rotation=45)\n",
    "plt.bar(days,[day_wise_tc[i] for i in days],color='blue')\n",
    "plt.grid()\n",
    "plt.show()"
   ]
  },
  {
   "cell_type": "markdown",
   "metadata": {},
   "source": [
    "---\n",
    "## Analysis 8: At what time does the company make most revenue (morning, noon or evening)\n",
    "---"
   ]
  },
  {
   "cell_type": "code",
   "execution_count": 42,
   "metadata": {},
   "outputs": [
    {
     "data": {
      "text/plain": [
       "{6, 7, 8, 9, 10, 11, 12, 13, 14, 15, 16, 17, 18, 19, 20}"
      ]
     },
     "execution_count": 42,
     "metadata": {},
     "output_type": "execute_result"
    }
   ],
   "source": [
    "#to check the time frame in hours that is being recorded against each transaction\n",
    "diff_hours=[]\n",
    "for i in final_table['transaction timestamp']:\n",
    "    trans_detail=i\n",
    "    h=int(str(trans_detail)[11:13]) #hour\n",
    "    diff_hours.append(h)\n",
    "set(diff_hours) #so the transaction has taken place from 6 am till at max 9pm"
   ]
  },
  {
   "cell_type": "code",
   "execution_count": null,
   "metadata": {},
   "outputs": [],
   "source": [
    "#6:00-10:59=morning\n",
    "#11:00-15:59=noon\n",
    "#16:00-21:00=evening\n",
    "#have segregated them into 3 slots of 5 hours each"
   ]
  },
  {
   "cell_type": "code",
   "execution_count": 43,
   "metadata": {},
   "outputs": [
    {
     "name": "stdout",
     "output_type": "stream",
     "text": [
      "{'Morning': 92702, 'Afternoon': 353632, 'Evening': 95575}\n"
     ]
    }
   ],
   "source": [
    "trans_detail=''\n",
    "day_part=['Morning','Afternoon','Evening']\n",
    "day_dict={}\n",
    "for i in final_table['transaction timestamp']:\n",
    "    trans_detail=i\n",
    "    h=int(str(trans_detail)[11:13])\n",
    "    m=int(str(trans_detail)[14:16])\n",
    "    if h<=10 and m<=59:\n",
    "        if day_part[0] not in day_dict.keys():\n",
    "            day_dict.update({day_part[0]:1})\n",
    "        else:\n",
    "            day_dict[day_part[0]]+=1\n",
    "    if (h>=11 and h<16):\n",
    "        if day_part[1] not in day_dict.keys():\n",
    "            day_dict.update({day_part[1]:1})\n",
    "        else:\n",
    "            day_dict[day_part[1]]+=1\n",
    "    if h>=16 and h<21:\n",
    "        if day_part[2] not in day_dict.keys():\n",
    "            day_dict.update({day_part[2]:1})\n",
    "        else:\n",
    "            day_dict[day_part[2]]+=1\n",
    "print(day_dict)   "
   ]
  },
  {
   "cell_type": "code",
   "execution_count": 44,
   "metadata": {},
   "outputs": [
    {
     "data": {
      "image/png": "[encoded data removed]",
      "text/plain": [
       "<Figure size 432x288 with 1 Axes>"
      ]
     },
     "metadata": {},
     "output_type": "display_data"
    }
   ],
   "source": [
    "plt.title('Transactions at different time intervals of the day')\n",
    "plt.pie([day_dict[i] for i in day_part],labels=day_part,autopct='%1.2f%%')\n",
    "plt.grid()\n",
    "plt.show()"
   ]
  },
  {
   "cell_type": "markdown",
   "metadata": {},
   "source": [
    "---\n",
    "## Analysis 9: Day of the week with most number of transactions, countrywise\n",
    "---"
   ]
  },
  {
   "cell_type": "code",
   "execution_count": 45,
   "metadata": {},
   "outputs": [
    {
     "data": {
      "text/html": [
       "<div>\n",
       "<style scoped>\n",
       "    .dataframe tbody tr th:only-of-type {\n",
       "        vertical-align: middle;\n",
       "    }\n",
       "\n",
       "    .dataframe tbody tr th {\n",
       "        vertical-align: top;\n",
       "    }\n",
       "\n",
       "    .dataframe thead th {\n",
       "        text-align: right;\n",
       "    }\n",
       "</style>\n",
       "<table border=\"1\" class=\"dataframe\">\n",
       "  <thead>\n",
       "    <tr style=\"text-align: right;\">\n",
       "      <th></th>\n",
       "      <th>product description</th>\n",
       "      <th>quantity sold</th>\n",
       "      <th>transaction timestamp</th>\n",
       "      <th>unit price</th>\n",
       "      <th>transaction country</th>\n",
       "      <th>total cost</th>\n",
       "      <th>day_name</th>\n",
       "    </tr>\n",
       "  </thead>\n",
       "  <tbody>\n",
       "    <tr>\n",
       "      <th>0</th>\n",
       "      <td>WHITE HANGING HEART T-LIGHT HOLDER</td>\n",
       "      <td>6</td>\n",
       "      <td>2010-12-01 08:26:00</td>\n",
       "      <td>2.55</td>\n",
       "      <td>United Kingdom</td>\n",
       "      <td>15.30</td>\n",
       "      <td>Wednesday</td>\n",
       "    </tr>\n",
       "    <tr>\n",
       "      <th>1</th>\n",
       "      <td>WHITE METAL LANTERN</td>\n",
       "      <td>6</td>\n",
       "      <td>2010-12-01 08:26:00</td>\n",
       "      <td>3.39</td>\n",
       "      <td>United Kingdom</td>\n",
       "      <td>20.34</td>\n",
       "      <td>Wednesday</td>\n",
       "    </tr>\n",
       "    <tr>\n",
       "      <th>2</th>\n",
       "      <td>CREAM CUPID HEARTS COAT HANGER</td>\n",
       "      <td>8</td>\n",
       "      <td>2010-12-01 08:26:00</td>\n",
       "      <td>2.75</td>\n",
       "      <td>United Kingdom</td>\n",
       "      <td>22.00</td>\n",
       "      <td>Wednesday</td>\n",
       "    </tr>\n",
       "    <tr>\n",
       "      <th>3</th>\n",
       "      <td>KNITTED UNION FLAG HOT WATER BOTTLE</td>\n",
       "      <td>6</td>\n",
       "      <td>2010-12-01 08:26:00</td>\n",
       "      <td>3.39</td>\n",
       "      <td>United Kingdom</td>\n",
       "      <td>20.34</td>\n",
       "      <td>Wednesday</td>\n",
       "    </tr>\n",
       "    <tr>\n",
       "      <th>4</th>\n",
       "      <td>RED WOOLLY HOTTIE WHITE HEART.</td>\n",
       "      <td>6</td>\n",
       "      <td>2010-12-01 08:26:00</td>\n",
       "      <td>3.39</td>\n",
       "      <td>United Kingdom</td>\n",
       "      <td>20.34</td>\n",
       "      <td>Wednesday</td>\n",
       "    </tr>\n",
       "  </tbody>\n",
       "</table>\n",
       "</div>"
      ],
      "text/plain": [
       "                   product description  quantity sold transaction timestamp  \\\n",
       "0   WHITE HANGING HEART T-LIGHT HOLDER              6   2010-12-01 08:26:00   \n",
       "1                  WHITE METAL LANTERN              6   2010-12-01 08:26:00   \n",
       "2       CREAM CUPID HEARTS COAT HANGER              8   2010-12-01 08:26:00   \n",
       "3  KNITTED UNION FLAG HOT WATER BOTTLE              6   2010-12-01 08:26:00   \n",
       "4       RED WOOLLY HOTTIE WHITE HEART.              6   2010-12-01 08:26:00   \n",
       "\n",
       "   unit price transaction country  total cost   day_name  \n",
       "0        2.55      United Kingdom       15.30  Wednesday  \n",
       "1        3.39      United Kingdom       20.34  Wednesday  \n",
       "2        2.75      United Kingdom       22.00  Wednesday  \n",
       "3        3.39      United Kingdom       20.34  Wednesday  \n",
       "4        3.39      United Kingdom       20.34  Wednesday  "
      ]
     },
     "execution_count": 45,
     "metadata": {},
     "output_type": "execute_result"
    }
   ],
   "source": [
    "final_table.head()"
   ]
  },
  {
   "cell_type": "code",
   "execution_count": 58,
   "metadata": {},
   "outputs": [],
   "source": [
    "daywise_trans_percountry={}\n",
    "#day_of_week={}\n",
    "for i,j in final_table.iterrows():\n",
    "    if j[4] not in daywise_trans_percountry.keys():\n",
    "        daywise_trans_percountry.update({j[4]:{}})\n",
    "        if j[6] not in daywise_trans_percountry[j[4]].keys():\n",
    "            #print('hello')\n",
    "            daywise_trans_percountry[j[4]].update({j[6]:1})\n",
    "    if j[4] in daywise_trans_percountry.keys():\n",
    "        if j[4] in daywise_trans_percountry.keys():\n",
    "            if j[6] not in daywise_trans_percountry[j[4]].keys():\n",
    "                daywise_trans_percountry[j[4]].update({j[6]:1})\n",
    "            else:\n",
    "                daywise_trans_percountry[j[4]][j[6]]+=1"
   ]
  },
  {
   "cell_type": "code",
   "execution_count": 59,
   "metadata": {},
   "outputs": [
    {
     "name": "stdout",
     "output_type": "stream",
     "text": [
      "United Kingdom {'Wednesday': 86152, 'Thursday': 93303, 'Friday': 73504, 'Sunday': 61133, 'Monday': 87400, 'Tuesday': 93987}\n",
      "France {'Wednesday': 1880, 'Friday': 1611, 'Sunday': 649, 'Tuesday': 1284, 'Thursday': 1834, 'Monday': 1300}\n",
      "Australia {'Wednesday': 323, 'Tuesday': 331, 'Friday': 102, 'Thursday': 394, 'Monday': 58, 'Sunday': 52}\n",
      "Netherlands {'Wednesday': 353, 'Monday': 340, 'Tuesday': 640, 'Friday': 346, 'Thursday': 632, 'Sunday': 61}\n",
      "Germany {'Wednesday': 1409, 'Thursday': 2293, 'Friday': 1967, 'Sunday': 797, 'Monday': 1753, 'Tuesday': 1277}\n",
      "Norway {'Wednesday': 300, 'Tuesday': 135, 'Thursday': 127, 'Monday': 135, 'Friday': 374, 'Sunday': 16}\n",
      "EIRE {'Wednesday': 1466, 'Thursday': 1511, 'Friday': 1631, 'Monday': 1670, 'Sunday': 520, 'Tuesday': 1399}\n",
      "Switzerland {'Friday': 382, 'Monday': 98, 'Wednesday': 524, 'Thursday': 287, 'Tuesday': 456, 'Sunday': 256}\n",
      "Spain {'Friday': 355, 'Thursday': 662, 'Monday': 458, 'Tuesday': 343, 'Wednesday': 382, 'Sunday': 334}\n",
      "Poland {'Friday': 65, 'Monday': 59, 'Tuesday': 55, 'Thursday': 26, 'Wednesday': 137}\n",
      "Portugal {'Friday': 175, 'Monday': 229, 'Wednesday': 304, 'Thursday': 516, 'Tuesday': 226, 'Sunday': 70}\n",
      "Italy {'Friday': 178, 'Monday': 142, 'Tuesday': 199, 'Wednesday': 77, 'Thursday': 196, 'Sunday': 12}\n",
      "Belgium {'Friday': 506, 'Tuesday': 332, 'Wednesday': 358, 'Thursday': 519, 'Monday': 206, 'Sunday': 149}\n",
      "Lithuania {'Sunday': 35, 'Wednesday': 1}\n",
      "Japan {'Sunday': 67, 'Thursday': 36, 'Friday': 52, 'Wednesday': 117, 'Monday': 30, 'Tuesday': 57}\n",
      "Iceland {'Tuesday': 54, 'Wednesday': 40, 'Thursday': 42, 'Monday': 47}\n",
      "Channel Islands {'Thursday': 154, 'Monday': 85, 'Tuesday': 135, 'Wednesday': 215, 'Friday': 102, 'Sunday': 68}\n",
      "Denmark {'Thursday': 186, 'Wednesday': 99, 'Monday': 78, 'Tuesday': 15, 'Friday': 12}\n",
      "Cyprus {'Tuesday': 86, 'Wednesday': 87, 'Monday': 116, 'Thursday': 154, 'Friday': 180}\n",
      "Sweden {'Tuesday': 74, 'Friday': 103, 'Thursday': 83, 'Monday': 77, 'Wednesday': 37, 'Sunday': 89}\n",
      "Austria {'Wednesday': 23, 'Friday': 44, 'Tuesday': 108, 'Thursday': 54, 'Monday': 136, 'Sunday': 37}\n",
      "Israel {'Wednesday': 19, 'Monday': 14, 'Friday': 33, 'Thursday': 198, 'Tuesday': 34}\n",
      "Finland {'Thursday': 239, 'Friday': 70, 'Tuesday': 247, 'Sunday': 13, 'Monday': 48, 'Wednesday': 79}\n",
      "Bahrain {'Monday': 15, 'Wednesday': 1, 'Thursday': 4}\n",
      "Greece {'Monday': 58, 'Friday': 53, 'Tuesday': 36}\n",
      "Hong Kong {'Monday': 62, 'Tuesday': 111, 'Friday': 100, 'Wednesday': 16}\n",
      "Singapore {'Tuesday': 109, 'Monday': 85, 'Friday': 32, 'Wednesday': 4}\n",
      "Lebanon {'Thursday': 46}\n",
      "United Arab Emirates {'Monday': 31, 'Thursday': 38}\n",
      "Saudi Arabia {'Thursday': 11}\n",
      "Czech Republic {'Monday': 16, 'Friday': 15}\n",
      "Canada {'Monday': 145, 'Wednesday': 1, 'Friday': 1, 'Thursday': 5}\n",
      "Unspecified {'Monday': 49, 'Tuesday': 47, 'Thursday': 194, 'Friday': 138, 'Wednesday': 19}\n",
      "Brazil {'Friday': 33}\n",
      "USA {'Tuesday': 23, 'Monday': 122, 'Wednesday': 101, 'Friday': 35, 'Thursday': 11}\n",
      "European Community {'Tuesday': 12, 'Sunday': 19, 'Monday': 1, 'Friday': 1, 'Thursday': 29}\n",
      "Malta {'Wednesday': 51, 'Thursday': 20, 'Monday': 55, 'Tuesday': 2}\n",
      "RSA {'Thursday': 59}\n"
     ]
    }
   ],
   "source": [
    "for i in daywise_trans_percountry:\n",
    "    print(i,daywise_trans_percountry[i])"
   ]
  },
  {
   "cell_type": "code",
   "execution_count": 72,
   "metadata": {},
   "outputs": [],
   "source": [
    "countrywise_day={}\n",
    "for i in daywise_trans_percountry:\n",
    "    day_wise_transpercountry={}\n",
    "    #print(daywise_trans_percountry[i])\n",
    "    for key,value in daywise_trans_percountry[i].items():\n",
    "        day_wise_transpercountry.update({value:key})\n",
    "    max_value=max(list(day_wise_transpercountry.keys()))\n",
    "    #print(max_value)\n",
    "    countrywise_day.update({i:day_wise_transpercountry[max_value]})"
   ]
  },
  {
   "cell_type": "code",
   "execution_count": 73,
   "metadata": {},
   "outputs": [
    {
     "data": {
      "text/plain": [
       "{'United Kingdom': 'Tuesday',\n",
       " 'France': 'Wednesday',\n",
       " 'Australia': 'Thursday',\n",
       " 'Netherlands': 'Tuesday',\n",
       " 'Germany': 'Thursday',\n",
       " 'Norway': 'Friday',\n",
       " 'EIRE': 'Monday',\n",
       " 'Switzerland': 'Wednesday',\n",
       " 'Spain': 'Thursday',\n",
       " 'Poland': 'Wednesday',\n",
       " 'Portugal': 'Thursday',\n",
       " 'Italy': 'Tuesday',\n",
       " 'Belgium': 'Thursday',\n",
       " 'Lithuania': 'Sunday',\n",
       " 'Japan': 'Wednesday',\n",
       " 'Iceland': 'Tuesday',\n",
       " 'Channel Islands': 'Wednesday',\n",
       " 'Denmark': 'Thursday',\n",
       " 'Cyprus': 'Friday',\n",
       " 'Sweden': 'Friday',\n",
       " 'Austria': 'Monday',\n",
       " 'Israel': 'Thursday',\n",
       " 'Finland': 'Tuesday',\n",
       " 'Bahrain': 'Monday',\n",
       " 'Greece': 'Monday',\n",
       " 'Hong Kong': 'Tuesday',\n",
       " 'Singapore': 'Tuesday',\n",
       " 'Lebanon': 'Thursday',\n",
       " 'United Arab Emirates': 'Thursday',\n",
       " 'Saudi Arabia': 'Thursday',\n",
       " 'Czech Republic': 'Monday',\n",
       " 'Canada': 'Monday',\n",
       " 'Unspecified': 'Thursday',\n",
       " 'Brazil': 'Friday',\n",
       " 'USA': 'Monday',\n",
       " 'European Community': 'Thursday',\n",
       " 'Malta': 'Monday',\n",
       " 'RSA': 'Thursday'}"
      ]
     },
     "execution_count": 73,
     "metadata": {},
     "output_type": "execute_result"
    }
   ],
   "source": [
    "countrywise_day"
   ]
  },
  {
   "cell_type": "markdown",
   "metadata": {},
   "source": [
    "---\n",
    "## Analysis 10: Finding the trend via total cost\n",
    "---"
   ]
  },
  {
   "cell_type": "code",
   "execution_count": 49,
   "metadata": {},
   "outputs": [
    {
     "name": "stdout",
     "output_type": "stream",
     "text": [
      "12\n"
     ]
    }
   ],
   "source": [
    "months=['Dec 2010','Jan 2011','Feb 2011','Mar 2011','Apr 2011','May 2011','Jun 2011',\n",
    "        'Jul 2011','Aug 2011','Sep 2011','Oct 2011','Nov 2011','Dec 2011']\n",
    "#finding string indices of month and year\n",
    "print(int(str(final_table['transaction timestamp'].head()[1])[5:7]))"
   ]
  },
  {
   "cell_type": "code",
   "execution_count": 50,
   "metadata": {},
   "outputs": [],
   "source": [
    "daily_rev=0\n",
    "monthly_rev={}\n",
    "for i in range(final_table.shape[0]):\n",
    "    if int(str(final_table['transaction timestamp'][i])[:4])==2010: \n",
    "        #Dec 2010\n",
    "        month=months[0]\n",
    "        daily_rev=final_table['total cost'][i]\n",
    "        if month not in monthly_rev.keys():\n",
    "            monthly_rev.update({month:daily_rev})\n",
    "        else:\n",
    "            monthly_rev[month]+=daily_rev\n",
    "    \n",
    "    elif int(str(final_table['transaction timestamp'][i])[:4])==2011 and int(str(final_table['transaction timestamp'][i])[5:7])==12:\n",
    "        #Dec 2011\n",
    "        month=months[12]\n",
    "        daily_rev=final_table['total cost'][i]\n",
    "        if month not in monthly_rev.keys():\n",
    "            monthly_rev.update({month:daily_rev})\n",
    "        else:\n",
    "            monthly_rev[month]+=daily_rev\n",
    "    \n",
    "    elif int(str(final_table['transaction timestamp'][i])[5:7])==1:\n",
    "        #Jan 2011\n",
    "        month=months[1]\n",
    "        daily_rev=final_table['total cost'][i]\n",
    "        if month not in monthly_rev.keys():\n",
    "            monthly_rev.update({month:daily_rev})\n",
    "        else:\n",
    "            monthly_rev[month]+=daily_rev\n",
    "    \n",
    "    elif int(str(final_table['transaction timestamp'][i])[5:7])==2:\n",
    "        #Feb 2011\n",
    "        month=months[2]\n",
    "        daily_rev=final_table['total cost'][i]\n",
    "        if month not in monthly_rev.keys():\n",
    "            monthly_rev.update({month:daily_rev})\n",
    "        else:\n",
    "            monthly_rev[month]+=daily_rev\n",
    "    \n",
    "    elif int(str(final_table['transaction timestamp'][i])[5:7])==3:\n",
    "        #Mar 2011\n",
    "        month=months[3]\n",
    "        daily_rev=final_table['total cost'][i]\n",
    "        if month not in monthly_rev.keys():\n",
    "            monthly_rev.update({month:daily_rev})\n",
    "        else:\n",
    "            monthly_rev[month]+=daily_rev\n",
    "    \n",
    "    elif int(str(final_table['transaction timestamp'][i])[5:7])==4:\n",
    "        #Apr 2011\n",
    "        month=months[4]\n",
    "        daily_rev=final_table['total cost'][i]\n",
    "        if month not in monthly_rev.keys():\n",
    "            monthly_rev.update({month:daily_rev})\n",
    "        else:\n",
    "            monthly_rev[month]+=daily_rev\n",
    "    \n",
    "    elif int(str(final_table['transaction timestamp'][i])[5:7])==5:\n",
    "        #May 2011\n",
    "        month=months[5]\n",
    "        daily_rev=final_table['total cost'][i]\n",
    "        if month not in monthly_rev.keys():\n",
    "            monthly_rev.update({month:daily_rev})\n",
    "        else:\n",
    "            monthly_rev[month]+=daily_rev\n",
    "    \n",
    "    elif int(str(final_table['transaction timestamp'][i])[5:7])==6:\n",
    "        #Jun 2011\n",
    "        month=months[6]\n",
    "        daily_rev=final_table['total cost'][i]\n",
    "        if month not in monthly_rev.keys():\n",
    "            monthly_rev.update({month:daily_rev})\n",
    "        else:\n",
    "            monthly_rev[month]+=daily_rev\n",
    "            \n",
    "    elif int(str(final_table['transaction timestamp'][i])[5:7])==7:\n",
    "        #Jul 2011\n",
    "        month=months[7]\n",
    "        daily_rev=final_table['total cost'][i]\n",
    "        if month not in monthly_rev.keys():\n",
    "            monthly_rev.update({month:daily_rev})\n",
    "        else:\n",
    "            monthly_rev[month]+=daily_rev\n",
    "    \n",
    "    elif int(str(final_table['transaction timestamp'][i])[5:7])==8:\n",
    "        #Aug 2011\n",
    "        month=months[8]\n",
    "        daily_rev=final_table['total cost'][i]\n",
    "        if month not in monthly_rev.keys():\n",
    "            monthly_rev.update({month:daily_rev})\n",
    "        else:\n",
    "            monthly_rev[month]+=daily_rev\n",
    "    \n",
    "    elif int(str(final_table['transaction timestamp'][i])[5:7])==9:\n",
    "        #Sep 2011\n",
    "        month=months[9]\n",
    "        daily_rev=final_table['total cost'][i]\n",
    "        if month not in monthly_rev.keys():\n",
    "            monthly_rev.update({month:daily_rev})\n",
    "        else:\n",
    "            monthly_rev[month]+=daily_rev\n",
    "    \n",
    "    elif int(str(final_table['transaction timestamp'][i])[5:7])==10:\n",
    "        #Oct 2011\n",
    "        month=months[10]\n",
    "        daily_rev=final_table['total cost'][i]\n",
    "        if month not in monthly_rev.keys():\n",
    "            monthly_rev.update({month:daily_rev})\n",
    "        else:\n",
    "            monthly_rev[month]+=daily_rev\n",
    "    \n",
    "    elif int(str(final_table['transaction timestamp'][i])[5:7])==11:\n",
    "        #Nov 2011\n",
    "        month=months[11]\n",
    "        daily_rev=final_table['total cost'][i]\n",
    "        if month not in monthly_rev.keys():\n",
    "            monthly_rev.update({month:daily_rev})\n",
    "        else:\n",
    "            monthly_rev[month]+=daily_rev"
   ]
  },
  {
   "cell_type": "code",
   "execution_count": 51,
   "metadata": {},
   "outputs": [
    {
     "data": {
      "text/plain": [
       "{'Dec 2010': 748957.0199999774,\n",
       " 'Jan 2011': 560000.2600000234,\n",
       " 'Feb 2011': 498062.6500000268,\n",
       " 'Mar 2011': 683267.0800000189,\n",
       " 'Apr 2011': 493207.1210000249,\n",
       " 'May 2011': 723333.51000001,\n",
       " 'Jun 2011': 691123.1200000228,\n",
       " 'Jul 2011': 681300.1110000301,\n",
       " 'Aug 2011': 682680.5100000176,\n",
       " 'Sep 2011': 1019687.622000011,\n",
       " 'Oct 2011': 1070704.669999975,\n",
       " 'Nov 2011': 1461756.2499997574,\n",
       " 'Dec 2011': 433668.0100000171}"
      ]
     },
     "execution_count": 51,
     "metadata": {},
     "output_type": "execute_result"
    }
   ],
   "source": [
    "monthly_rev"
   ]
  },
  {
   "cell_type": "code",
   "execution_count": 52,
   "metadata": {},
   "outputs": [
    {
     "data": {
      "image/png": "[encoded data removed]",
      "text/plain": [
       "<Figure size 432x288 with 1 Axes>"
      ]
     },
     "metadata": {
      "needs_background": "light"
     },
     "output_type": "display_data"
    }
   ],
   "source": [
    "#now visualizing\n",
    "\n",
    "plt.title('Monthly revenue')\n",
    "plt.xlabel('Months')\n",
    "plt.xticks(rotation=45)\n",
    "plt.ylabel('Revenue in Millions')\n",
    "plt.plot(months,[monthly_rev[i] for i in months],color='red')\n",
    "plt.grid()\n",
    "plt.show()"
   ]
  },
  {
   "cell_type": "markdown",
   "metadata": {},
   "source": [
    "---\n",
    "## Analysis 11: Month wise transactions \n",
    "---"
   ]
  },
  {
   "cell_type": "code",
   "execution_count": 74,
   "metadata": {},
   "outputs": [
    {
     "data": {
      "text/html": [
       "<div>\n",
       "<style scoped>\n",
       "    .dataframe tbody tr th:only-of-type {\n",
       "        vertical-align: middle;\n",
       "    }\n",
       "\n",
       "    .dataframe tbody tr th {\n",
       "        vertical-align: top;\n",
       "    }\n",
       "\n",
       "    .dataframe thead th {\n",
       "        text-align: right;\n",
       "    }\n",
       "</style>\n",
       "<table border=\"1\" class=\"dataframe\">\n",
       "  <thead>\n",
       "    <tr style=\"text-align: right;\">\n",
       "      <th></th>\n",
       "      <th>product description</th>\n",
       "      <th>quantity sold</th>\n",
       "      <th>transaction timestamp</th>\n",
       "      <th>unit price</th>\n",
       "      <th>transaction country</th>\n",
       "      <th>total cost</th>\n",
       "      <th>day_name</th>\n",
       "    </tr>\n",
       "  </thead>\n",
       "  <tbody>\n",
       "    <tr>\n",
       "      <th>0</th>\n",
       "      <td>WHITE HANGING HEART T-LIGHT HOLDER</td>\n",
       "      <td>6</td>\n",
       "      <td>2010-12-01 08:26:00</td>\n",
       "      <td>2.55</td>\n",
       "      <td>United Kingdom</td>\n",
       "      <td>15.30</td>\n",
       "      <td>Wednesday</td>\n",
       "    </tr>\n",
       "    <tr>\n",
       "      <th>1</th>\n",
       "      <td>WHITE METAL LANTERN</td>\n",
       "      <td>6</td>\n",
       "      <td>2010-12-01 08:26:00</td>\n",
       "      <td>3.39</td>\n",
       "      <td>United Kingdom</td>\n",
       "      <td>20.34</td>\n",
       "      <td>Wednesday</td>\n",
       "    </tr>\n",
       "    <tr>\n",
       "      <th>2</th>\n",
       "      <td>CREAM CUPID HEARTS COAT HANGER</td>\n",
       "      <td>8</td>\n",
       "      <td>2010-12-01 08:26:00</td>\n",
       "      <td>2.75</td>\n",
       "      <td>United Kingdom</td>\n",
       "      <td>22.00</td>\n",
       "      <td>Wednesday</td>\n",
       "    </tr>\n",
       "    <tr>\n",
       "      <th>3</th>\n",
       "      <td>KNITTED UNION FLAG HOT WATER BOTTLE</td>\n",
       "      <td>6</td>\n",
       "      <td>2010-12-01 08:26:00</td>\n",
       "      <td>3.39</td>\n",
       "      <td>United Kingdom</td>\n",
       "      <td>20.34</td>\n",
       "      <td>Wednesday</td>\n",
       "    </tr>\n",
       "    <tr>\n",
       "      <th>4</th>\n",
       "      <td>RED WOOLLY HOTTIE WHITE HEART.</td>\n",
       "      <td>6</td>\n",
       "      <td>2010-12-01 08:26:00</td>\n",
       "      <td>3.39</td>\n",
       "      <td>United Kingdom</td>\n",
       "      <td>20.34</td>\n",
       "      <td>Wednesday</td>\n",
       "    </tr>\n",
       "  </tbody>\n",
       "</table>\n",
       "</div>"
      ],
      "text/plain": [
       "                   product description  quantity sold transaction timestamp  \\\n",
       "0   WHITE HANGING HEART T-LIGHT HOLDER              6   2010-12-01 08:26:00   \n",
       "1                  WHITE METAL LANTERN              6   2010-12-01 08:26:00   \n",
       "2       CREAM CUPID HEARTS COAT HANGER              8   2010-12-01 08:26:00   \n",
       "3  KNITTED UNION FLAG HOT WATER BOTTLE              6   2010-12-01 08:26:00   \n",
       "4       RED WOOLLY HOTTIE WHITE HEART.              6   2010-12-01 08:26:00   \n",
       "\n",
       "   unit price transaction country  total cost   day_name  \n",
       "0        2.55      United Kingdom       15.30  Wednesday  \n",
       "1        3.39      United Kingdom       20.34  Wednesday  \n",
       "2        2.75      United Kingdom       22.00  Wednesday  \n",
       "3        3.39      United Kingdom       20.34  Wednesday  \n",
       "4        3.39      United Kingdom       20.34  Wednesday  "
      ]
     },
     "execution_count": 74,
     "metadata": {},
     "output_type": "execute_result"
    }
   ],
   "source": [
    "final_table.head()"
   ]
  },
  {
   "cell_type": "code",
   "execution_count": 78,
   "metadata": {},
   "outputs": [],
   "source": [
    "monthly_trans={}\n",
    "for i in range(final_table.shape[0]):\n",
    "    if int(str(final_table['transaction timestamp'][i])[:4])==2010: \n",
    "        #Dec 2010\n",
    "        month=months[0]\n",
    "        if month not in monthly_trans.keys():\n",
    "            monthly_trans.update({month:1})\n",
    "        else:\n",
    "            monthly_trans[month]+=1\n",
    "            \n",
    "    elif int(str(final_table['transaction timestamp'][i])[:4])==2011 and int(str(final_table['transaction timestamp'][i])[5:7])==12:\n",
    "        #Dec 2011\n",
    "        month=months[12]\n",
    "        if month not in monthly_trans.keys():\n",
    "            monthly_trans.update({month:1})\n",
    "        else:\n",
    "            monthly_trans[month]+=1\n",
    "    \n",
    "    elif int(str(final_table['transaction timestamp'][i])[5:7])==1: \n",
    "        #Jan 2011\n",
    "        month=months[1]\n",
    "        if month not in monthly_trans.keys():\n",
    "            monthly_trans.update({month:1})\n",
    "        else:\n",
    "            monthly_trans[month]+=1\n",
    "   \n",
    "    elif int(str(final_table['transaction timestamp'][i])[5:7])==2: \n",
    "        #Feb 2011\n",
    "        month=months[2]\n",
    "        if month not in monthly_trans.keys():\n",
    "            monthly_trans.update({month:1})\n",
    "        else:\n",
    "            monthly_trans[month]+=1\n",
    "    \n",
    "    elif int(str(final_table['transaction timestamp'][i])[5:7])==3: \n",
    "        #Mar 2011\n",
    "        month=months[3]\n",
    "        if month not in monthly_trans.keys():\n",
    "            monthly_trans.update({month:1})\n",
    "        else:\n",
    "            monthly_trans[month]+=1\n",
    "    \n",
    "    elif int(str(final_table['transaction timestamp'][i])[5:7])==4: \n",
    "        #Apr 2011\n",
    "        month=months[4]\n",
    "        if month not in monthly_trans.keys():\n",
    "            monthly_trans.update({month:1})\n",
    "        else:\n",
    "            monthly_trans[month]+=1\n",
    "\n",
    "    elif int(str(final_table['transaction timestamp'][i])[5:7])==5: \n",
    "        #May 2011\n",
    "        month=months[5]\n",
    "        if month not in monthly_trans.keys():\n",
    "            monthly_trans.update({month:1})\n",
    "        else:\n",
    "            monthly_trans[month]+=1\n",
    "\n",
    "    elif int(str(final_table['transaction timestamp'][i])[5:7])==6: \n",
    "        #Jun 2011\n",
    "        month=months[6]\n",
    "        if month not in monthly_trans.keys():\n",
    "            monthly_trans.update({month:1})\n",
    "        else:\n",
    "            monthly_trans[month]+=1\n",
    "\n",
    "    elif int(str(final_table['transaction timestamp'][i])[5:7])==7: \n",
    "        #Jul 2011\n",
    "        month=months[1]\n",
    "        if month not in monthly_trans.keys():\n",
    "            monthly_trans.update({month:1})\n",
    "        else:\n",
    "            monthly_trans[month]+=1\n",
    "    \n",
    "    elif int(str(final_table['transaction timestamp'][i])[5:7])==8: \n",
    "        #Aug 2011\n",
    "        month=months[8]\n",
    "        if month not in monthly_trans.keys():\n",
    "            monthly_trans.update({month:1})\n",
    "        else:\n",
    "            monthly_trans[month]+=1\n",
    "\n",
    "    elif int(str(final_table['transaction timestamp'][i])[5:7])==9: \n",
    "        #Sep 2011\n",
    "        month=months[9]\n",
    "        if month not in monthly_trans.keys():\n",
    "            monthly_trans.update({month:1})\n",
    "        else:\n",
    "            monthly_trans[month]+=1\n",
    "    \n",
    "    elif int(str(final_table['transaction timestamp'][i])[5:7])==10: \n",
    "        #Oct 2011\n",
    "        month=months[10]\n",
    "        if month not in monthly_trans.keys():\n",
    "            monthly_trans.update({month:1})\n",
    "        else:\n",
    "            monthly_trans[month]+=1\n",
    "    \n",
    "    elif int(str(final_table['transaction timestamp'][i])[5:7])==11: \n",
    "        #Nov 2011\n",
    "        month=months[11]\n",
    "        if month not in monthly_trans.keys():\n",
    "            monthly_trans.update({month:1})\n",
    "        else:\n",
    "            monthly_trans[month]+=1\n",
    "    "
   ]
  },
  {
   "cell_type": "code",
   "execution_count": 79,
   "metadata": {},
   "outputs": [
    {
     "data": {
      "text/plain": [
       "{'Dec 2010': 42481,\n",
       " 'Jan 2011': 74665,\n",
       " 'Feb 2011': 27707,\n",
       " 'Mar 2011': 36748,\n",
       " 'Apr 2011': 29916,\n",
       " 'May 2011': 37030,\n",
       " 'Jun 2011': 36874,\n",
       " 'Aug 2011': 35284,\n",
       " 'Sep 2011': 50226,\n",
       " 'Oct 2011': 60742,\n",
       " 'Nov 2011': 84711,\n",
       " 'Dec 2011': 25525}"
      ]
     },
     "execution_count": 79,
     "metadata": {},
     "output_type": "execute_result"
    }
   ],
   "source": [
    "monthly_trans"
   ]
  },
  {
   "cell_type": "code",
   "execution_count": 86,
   "metadata": {},
   "outputs": [
    {
     "data": {
      "image/png": "[encoded data removed]",
      "text/plain": [
       "<Figure size 432x288 with 1 Axes>"
      ]
     },
     "metadata": {
      "needs_background": "light"
     },
     "output_type": "display_data"
    }
   ],
   "source": [
    "plt.plot(list(monthly_trans.keys()),list(monthly_trans.values()))\n",
    "plt.xlabel('Months')\n",
    "plt.xticks(rotation=45)\n",
    "plt.ylabel('Number of Transactions')\n",
    "plt.title('Monthly Transactions')\n",
    "plt.grid()"
   ]
  },
  {
   "cell_type": "code",
   "execution_count": null,
   "metadata": {},
   "outputs": [],
   "source": []
  }
 ],
 "metadata": {
  "kernelspec": {
   "display_name": "Python 3",
   "language": "python",
   "name": "python3"
  },
  "language_info": {
   "codemirror_mode": {
    "name": "ipython",
    "version": 3
   },
   "file_extension": ".py",
   "mimetype": "text/x-python",
   "name": "python",
   "nbconvert_exporter": "python",
   "pygments_lexer": "ipython3",
   "version": "3.7.4"
  }
 },
 "nbformat": 4,
 "nbformat_minor": 2
}
